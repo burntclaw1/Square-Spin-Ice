{
 "cells": [
  {
   "cell_type": "code",
   "execution_count": 2,
   "id": "3afa7faf",
   "metadata": {},
   "outputs": [
    {
     "data": {
      "text/plain": [
       "find_k0_sz (generic function with 1 method)"
      ]
     },
     "execution_count": 2,
     "metadata": {},
     "output_type": "execute_result"
    }
   ],
   "source": [
    "include(\"unitTests.jl\")"
   ]
  },
  {
   "cell_type": "code",
   "execution_count": 3,
   "id": "9d110a20",
   "metadata": {},
   "outputs": [
    {
     "name": "stdout",
     "output_type": "stream",
     "text": [
      "[6, 10]"
     ]
    },
    {
     "data": {
      "text/plain": [
       "0.5"
      ]
     },
     "execution_count": 3,
     "metadata": {},
     "output_type": "execute_result"
    }
   ],
   "source": [
    "    eigmethod = \"full\"\n",
    "    num = \"all\"\n",
    "    file = false\n",
    "    pbc::Bool=false\n",
    "    bonds::Array{bond} = bond[]\n",
    "    hs = Float64[]\n",
    "    hs2 = Float64[]\n",
    "    hss=generateHListUniformIncludeOne(0.1, 1, 50);\n",
    "    gs=Float64[]\n",
    "    es=Float64[]\n",
    "\n",
    "    norms=[]\n",
    "    \n",
    "    J = -1\n",
    "    J2 = 0\n",
    "    N = 6\n",
    "    states=[]\n",
    "    #!!!!\n",
    "    maxSites = 10\n",
    "    numSites=1\n",
    "    N=numSites\n",
    "    width = 0\n",
    "    Ls=[]\n",
    "    for i in range(6, maxSites, 2)\n",
    "        push!(Ls, i)\n",
    "    end\n",
    "    Ls=Integer.(Ls)\n",
    "    print(Ls)\n",
    "    hx=-1.05\n",
    "    hz=0.5\n"
   ]
  },
  {
   "cell_type": "code",
   "execution_count": 5,
   "id": "bee4870a",
   "metadata": {},
   "outputs": [
    {
     "ename": "LoadError",
     "evalue": "UndefVarError: `listA` not defined",
     "output_type": "error",
     "traceback": [
      "UndefVarError: `listA` not defined",
      "",
      "Stacktrace:",
      " [1] top-level scope",
      "   @ In[5]:10"
     ]
    }
   ],
   "source": [
    "numSites=Ls[1]\n",
    "            N=numSites\n",
    "            empty!(hs)\n",
    "            empty!(hs2)\n",
    "            for i=0:N-1\n",
    "                push!(hs, hx);\n",
    "                push!(hs2, hz)\n",
    "            end\n",
    "\n",
    "            bonds=bonds1D(N, pbc)\n",
    "            empty!(states)\n",
    "            for i=0:2^N-1\n",
    "                push!(states, i)\n",
    "            end"
   ]
  },
  {
   "cell_type": "code",
   "execution_count": null,
   "id": "f1016469",
   "metadata": {},
   "outputs": [],
   "source": []
  }
 ],
 "metadata": {
  "kernelspec": {
   "display_name": "Julia 1.10.2",
   "language": "julia",
   "name": "julia-1.10"
  },
  "language_info": {
   "file_extension": ".jl",
   "mimetype": "application/julia",
   "name": "julia",
   "version": "1.10.2"
  }
 },
 "nbformat": 4,
 "nbformat_minor": 5
}
